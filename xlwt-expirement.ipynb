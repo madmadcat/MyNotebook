{
 "cells": [
  {
   "cell_type": "markdown",
   "metadata": {},
   "source": [
    "## 学习 “yield”"
   ]
  },
  {
   "cell_type": "markdown",
   "metadata": {},
   "source": [
    "### 结合xlwt写入xls文件"
   ]
  },
  {
   "cell_type": "code",
   "execution_count": null,
   "metadata": {},
   "outputs": [
    {
     "name": "stdout",
     "output_type": "stream",
     "text": [
      "10\n",
      "20\n",
      "30\n",
      "40\n"
     ]
    }
   ],
   "source": [
    "from xlwt import Workbook, easyxf\n",
    "\n",
    "wb = Workbook(encoding='utf-8')\n",
    "ws = wb.add_sheet('merged', cell_overwrite_ok=True)\n",
    "###################\n",
    "style = easyxf('align: vertical center, horizontal center;')\n",
    "row_cursor = 5\n",
    "\n",
    "# 定义生成器函数\n",
    "def write_row(row_cursor):\n",
    "    for row in range(5, 200):\n",
    "        ws.write_merge(row_cursor, row_cursor, 0, 11, '行: {}'.format(row + 1), style)\n",
    "        row_cursor += 1\n",
    "        if row_cursor in [10, 20 ,30 ,40]:\n",
    "            yield row_cursor\n",
    "\n",
    "            \n",
    "write_gen = write_row(row_cursor)\n",
    "# for row in write_gen:\n",
    "#     ws.write_merge(row, row, 0, 11, 'yield row {}'.format(row), style)\n",
    "#     write_gen.send(row + 1)\n",
    "#     print('yield row {}'.format(row))\n",
    "\n",
    "\n",
    "###################\n"
   ]
  },
  {
   "cell_type": "markdown",
   "metadata": {},
   "source": [
    "### 迭代一个生成器的方法\n",
    "类似 \n",
    "```for x in write_gen```"
   ]
  },
  {
   "cell_type": "code",
   "execution_count": null,
   "metadata": {},
   "outputs": [],
   "source": [
    "while True:\n",
    "    try:\n",
    "        x = write_gen.__next__()\n",
    "    except StopIteration:\n",
    "        pass\n",
    "    else:\n",
    "        print(x)"
   ]
  },
  {
   "cell_type": "code",
   "execution_count": null,
   "metadata": {},
   "outputs": [],
   "source": []
  }
 ],
 "metadata": {
  "kernelspec": {
   "display_name": "Python 3",
   "language": "python",
   "name": "python3"
  },
  "language_info": {
   "codemirror_mode": {
    "name": "ipython",
    "version": 3
   },
   "file_extension": ".py",
   "mimetype": "text/x-python",
   "name": "python",
   "nbconvert_exporter": "python",
   "pygments_lexer": "ipython3",
   "version": "3.7.9"
  }
 },
 "nbformat": 4,
 "nbformat_minor": 4
}
