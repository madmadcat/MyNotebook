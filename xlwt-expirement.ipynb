{
 "cells": [
  {
   "cell_type": "markdown",
   "metadata": {},
   "source": [
    "## 学习 “yield”"
   ]
  },
  {
   "cell_type": "markdown",
   "metadata": {},
   "source": [
    "### 结合xlwt写入xls文件"
   ]
  },
  {
   "cell_type": "code",
   "execution_count": 2,
   "metadata": {},
   "outputs": [],
   "source": [
    "from xlwt import Workbook, easyxf\n",
    "from loguru import logger\n",
    "import os\n",
    "\n",
    "wb = Workbook(encoding='utf-8')\n",
    "ws = wb.add_sheet('merged', cell_overwrite_ok=True)\n",
    "\n",
    "style = easyxf('align: vertical center, horizontal center;')\n",
    "row_cursor = 5\n",
    "\n",
    "# 定义生成器函数\n",
    "def write_row(max_rows):\n",
    "    row = 0\n",
    "    while row <= max_rows:\n",
    "        # 在 行号 = row 写入一行内容\n",
    "        ws.write_merge(row, row, 0, 11, '行: {}'.format(row + 1), style)\n",
    "        # 行号 + 1\n",
    "        row += 1\n",
    "        # 如果 行号 匹配, 暂停并返回\n",
    "        if row in [10, 20 ,30 ,40]:\n",
    "            logger.debug('行号匹配 暂停: {}', row)\n",
    "            _row = yield row\n",
    "            logger.debug('Get generator send value: {}', _row)\n",
    "            # 设定 恢复后的新 行号\n",
    "            row = _row\n",
    "        logger.debug('新行号: {}', row)\n"
   ]
  },
  {
   "cell_type": "markdown",
   "metadata": {},
   "source": [
    "### 迭代一个生成器的方法\n",
    "\n",
    "For example:\n",
    "```for x in write_gen```\n",
    "\n",
    "Note:\n",
    "\n",
    "- 第一次调用时，请使用`next()`语句或是`send(None)`\n",
    "- use `__next__()` or `next(your_generator_instance)` in python3\n",
    "\n",
    "\n"
   ]
  },
  {
   "cell_type": "code",
   "execution_count": 5,
   "metadata": {},
   "outputs": [
    {
     "name": "stderr",
     "output_type": "stream",
     "text": [
      "2021-04-26 11:56:21.122 | DEBUG    | __main__:write_row:26 - 新行号: 1\n",
      "2021-04-26 11:56:21.123 | DEBUG    | __main__:write_row:26 - 新行号: 2\n",
      "2021-04-26 11:56:21.124 | DEBUG    | __main__:write_row:26 - 新行号: 3\n",
      "2021-04-26 11:56:21.127 | DEBUG    | __main__:write_row:26 - 新行号: 4\n",
      "2021-04-26 11:56:21.128 | DEBUG    | __main__:write_row:26 - 新行号: 5\n",
      "2021-04-26 11:56:21.130 | DEBUG    | __main__:write_row:26 - 新行号: 6\n",
      "2021-04-26 11:56:21.131 | DEBUG    | __main__:write_row:26 - 新行号: 7\n",
      "2021-04-26 11:56:21.131 | DEBUG    | __main__:write_row:26 - 新行号: 8\n",
      "2021-04-26 11:56:21.133 | DEBUG    | __main__:write_row:26 - 新行号: 9\n",
      "2021-04-26 11:56:21.133 | DEBUG    | __main__:write_row:21 - 行号匹配 暂停: 10\n",
      "2021-04-26 11:56:21.135 | DEBUG    | __main__:write_row:23 - Get generator send value: 11\n",
      "2021-04-26 11:56:21.136 | DEBUG    | __main__:write_row:26 - 新行号: 11\n",
      "2021-04-26 11:56:21.137 | DEBUG    | __main__:write_row:26 - 新行号: 12\n",
      "2021-04-26 11:56:21.138 | DEBUG    | __main__:<module>:18 - Loop ended.\n"
     ]
    }
   ],
   "source": [
    "write_gen = write_row(max_rows=11)\n",
    "\n",
    "# init x, for specially handling in the first call generator\n",
    "x = next(write_gen)\n",
    "while True:\n",
    "    try:\n",
    "        x = write_gen.send(x + 1)\n",
    "    except StopIteration:\n",
    "        break\n",
    "    else:\n",
    "        logger.debug('Get yield value: {}', x)\n",
    "\n",
    "# for row in write_gen:\n",
    "#     logger.debug('Get yield value: {}', x)\n",
    "#     write_gen.send(row + 1)\n",
    "\n",
    "        \n",
    "logger.debug('Loop ended.')\n",
    "os.chdir('../MyNotebook')\n",
    "wb.save('yield.xls')"
   ]
  },
  {
   "cell_type": "markdown",
   "metadata": {},
   "source": [
    "### 列表的笛卡尔积, 排列组合两个列表"
   ]
  },
  {
   "cell_type": "code",
   "execution_count": 26,
   "metadata": {},
   "outputs": [
    {
     "name": "stdout",
     "output_type": "stream",
     "text": [
      "1 spades\n",
      "1 hearts\n",
      "1 diamonds\n",
      "1 clubs\n",
      "2 spades\n",
      "2 hearts\n",
      "2 diamonds\n",
      "2 clubs\n",
      "3 spades\n",
      "3 hearts\n",
      "3 diamonds\n",
      "3 clubs\n",
      "4 spades\n",
      "4 hearts\n",
      "4 diamonds\n",
      "4 clubs\n",
      "5 spades\n",
      "5 hearts\n",
      "5 diamonds\n",
      "5 clubs\n",
      "6 spades\n",
      "6 hearts\n",
      "6 diamonds\n",
      "6 clubs\n",
      "7 spades\n",
      "7 hearts\n",
      "7 diamonds\n",
      "7 clubs\n",
      "8 spades\n",
      "8 hearts\n",
      "8 diamonds\n",
      "8 clubs\n",
      "9 spades\n",
      "9 hearts\n",
      "9 diamonds\n",
      "9 clubs\n",
      "10 spades\n",
      "10 hearts\n",
      "10 diamonds\n",
      "10 clubs\n"
     ]
    }
   ],
   "source": [
    "import itertools\n",
    "\n",
    "def createDeck():\n",
    "    I=[1,2,3,4,5,6,7,8,9,10]\n",
    "    J=['spades','hearts','diamonds','clubs']\n",
    "    return (itertools.product(I,J))\n",
    "\n",
    "prod = createDeck()\n",
    "for (a, b) in prod:`\n",
    "    print(a, b)"
   ]
  },
  {
   "cell_type": "markdown",
   "metadata": {},
   "source": [
    "### 生成列表[(61, 0, 0), (122, 0, 0)], 分页参数"
   ]
  },
  {
   "cell_type": "code",
   "execution_count": 10,
   "metadata": {},
   "outputs": [
    {
     "data": {
      "text/plain": [
       "[(61, 0, 0),\n",
       " (122, 0, 0),\n",
       " (183, 0, 0),\n",
       " (244, 0, 0),\n",
       " (305, 0, 0),\n",
       " (366, 0, 0),\n",
       " (427, 0, 0),\n",
       " (488, 0, 0),\n",
       " (549, 0, 0),\n",
       " (610, 0, 0)]"
      ]
     },
     "execution_count": 10,
     "metadata": {},
     "output_type": "execute_result"
    }
   ],
   "source": [
    "def page_breaks(row_count_per_page):\n",
    "    n = 1\n",
    "    yield n * row_count_per_page\n",
    "    n += 1\n",
    "\n",
    "row_count_per_page = 61\n",
    "l = [(i * row_count_per_page, 0, 0) for i in range(1, 11)]\n",
    "l"
   ]
  }
 ],
 "metadata": {
  "kernelspec": {
   "display_name": "Python 3",
   "language": "python",
   "name": "python3"
  },
  "language_info": {
   "codemirror_mode": {
    "name": "ipython",
    "version": 3
   },
   "file_extension": ".py",
   "mimetype": "text/x-python",
   "name": "python",
   "nbconvert_exporter": "python",
   "pygments_lexer": "ipython3",
   "version": "3.7.9"
  }
 },
 "nbformat": 4,
 "nbformat_minor": 4
}
