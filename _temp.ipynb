{
 "cells": [
  {
   "cell_type": "code",
   "execution_count": 27,
   "metadata": {},
   "outputs": [
    {
     "data": {
      "text/plain": [
       "0"
      ]
     },
     "execution_count": 27,
     "metadata": {},
     "output_type": "execute_result"
    }
   ],
   "source": [
    "imp = {'status': 'Pass', 'data': {'spec_max': '110~115~105', 'spec_min': '90~85~95', 'max_value': 109.11, 'min_value': 93.23, 'differ': 15.88, 'average': 102.42, 'status': 'Pass'}}\n",
    "\n",
    "s_r = {'Return_Loss': 'Failed', 'Insert_Loss': 'Failed',\n",
    "                'Diff_Impedance_LEFT': 'Failed', 'Diff_Impedance_RIGHT':\n",
    "                'Failed'}\n",
    "list(s_r.keys()).index('Return_Loss')"
   ]
  }
 ],
 "metadata": {
  "kernelspec": {
   "display_name": "Python 3",
   "language": "python",
   "name": "python3"
  },
  "language_info": {
   "codemirror_mode": {
    "name": "ipython",
    "version": 3
   },
   "file_extension": ".py",
   "mimetype": "text/x-python",
   "name": "python",
   "nbconvert_exporter": "python",
   "pygments_lexer": "ipython3",
   "version": "3.7.9"
  }
 },
 "nbformat": 4,
 "nbformat_minor": 4
}
